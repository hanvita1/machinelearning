{
  "nbformat": 4,
  "nbformat_minor": 0,
  "metadata": {
    "colab": {
      "name": "1st day 1st session exercise",
      "provenance": [],
      "authorship_tag": "ABX9TyPByr3ynqxKwo8KLvRKspv0",
      "include_colab_link": true
    },
    "kernelspec": {
      "name": "python3",
      "display_name": "Python 3"
    }
  },
  "cells": [
    {
      "cell_type": "markdown",
      "metadata": {
        "id": "view-in-github",
        "colab_type": "text"
      },
      "source": [
        "<a href=\"https://colab.research.google.com/github/hanvita1/machinelearning/blob/master/1st_day_1st_session_exercise.ipynb\" target=\"_parent\"><img src=\"https://colab.research.google.com/assets/colab-badge.svg\" alt=\"Open In Colab\"/></a>"
      ]
    },
    {
      "cell_type": "code",
      "metadata": {
        "id": "fQocmmJTjAoI",
        "colab_type": "code",
        "colab": {}
      },
      "source": [
        ""
      ],
      "execution_count": 0,
      "outputs": []
    },
    {
      "cell_type": "code",
      "metadata": {
        "id": "ShQZV5UnnUBi",
        "colab_type": "code",
        "colab": {}
      },
      "source": [
        ""
      ],
      "execution_count": 0,
      "outputs": []
    },
    {
      "cell_type": "code",
      "metadata": {
        "id": "7fP3eLywnUVo",
        "colab_type": "code",
        "colab": {}
      },
      "source": [
        ""
      ],
      "execution_count": 0,
      "outputs": []
    },
    {
      "cell_type": "markdown",
      "metadata": {
        "id": "hqznt1NMjUiW",
        "colab_type": "text"
      },
      "source": [
        "Find the compound interest for the given p,n,r (formula : p(1+n*)"
      ]
    },
    {
      "cell_type": "code",
      "metadata": {
        "id": "9PMdhY1kjVmD",
        "colab_type": "code",
        "outputId": "935fe048-f95f-46cc-8ce6-6c7faa4e4d5c",
        "colab": {
          "base_uri": "https://localhost:8080/",
          "height": 84
        }
      },
      "source": [
        "def compound_interest(principle, rate, time):\n",
        " CI = principle * (pow((1 + rate / 100), time))\n",
        " print(\"Compound interest is\", CI)\n",
        "p=int(input(\"enter p value: \"))\n",
        "n=int(input(\"enter n value: \"))\n",
        "r=float(input(\"enter r value: \"))\n",
        "compound_interest(p, r, n) \n"
      ],
      "execution_count": 0,
      "outputs": [
        {
          "output_type": "stream",
          "text": [
            "enter p value: 1200\n",
            "enter n value: 2\n",
            "enter r value: 5.4\n",
            "Compound interest is 1333.0992\n"
          ],
          "name": "stdout"
        }
      ]
    },
    {
      "cell_type": "markdown",
      "metadata": {
        "id": "YiRfa6uGjl7i",
        "colab_type": "text"
      },
      "source": [
        "Convert centegrade to farenheit ( f= 9/5*c+32)"
      ]
    },
    {
      "cell_type": "code",
      "metadata": {
        "id": "ZkqLF8cujpoM",
        "colab_type": "code",
        "outputId": "fbde021e-fd5a-48e6-e39b-c73906d57873",
        "colab": {
          "base_uri": "https://localhost:8080/",
          "height": 50
        }
      },
      "source": [
        "celsius = float(input(\"Enter temperature in celsius: \"))\n",
        "fahrenheit = (celsius * 9/5) + 32\n",
        "print('%.2f Celsius is: %0.2f Fahrenheit' %(celsius, fahrenheit))"
      ],
      "execution_count": 0,
      "outputs": [
        {
          "output_type": "stream",
          "text": [
            "Enter temperature in celsius: 37\n",
            "37.00 Celsius is: 98.60 Fahrenheit\n"
          ],
          "name": "stdout"
        }
      ]
    },
    {
      "cell_type": "markdown",
      "metadata": {
        "id": "oqX_wdiYjw06",
        "colab_type": "text"
      },
      "source": [
        "Find the greater of two nos"
      ]
    },
    {
      "cell_type": "code",
      "metadata": {
        "id": "cN1rcL5gj0F9",
        "colab_type": "code",
        "outputId": "0ed7918b-9f6c-4df0-e255-1ab319c1f2ce",
        "colab": {
          "base_uri": "https://localhost:8080/",
          "height": 84
        }
      },
      "source": [
        "a=int(input(\"enter a num : \"))\n",
        "b=int(input(\"enter a num : \"))\n",
        "print(\"greater num is : \")\n",
        "if(a>b):\n",
        " print(a)\n",
        "else:\n",
        " print(b)"
      ],
      "execution_count": 0,
      "outputs": [
        {
          "output_type": "stream",
          "text": [
            "enter a num : 10\n",
            "enter a num : 100\n",
            "greater num is : \n",
            "100\n"
          ],
          "name": "stdout"
        }
      ]
    },
    {
      "cell_type": "markdown",
      "metadata": {
        "id": "ohffdG4Hj9Cw",
        "colab_type": "text"
      },
      "source": [
        "Write a program for nding surface areas of cylinder and cone"
      ]
    },
    {
      "cell_type": "code",
      "metadata": {
        "id": "3fgDtUUUkAjE",
        "colab_type": "code",
        "outputId": "8bbc97ca-0f20-4eb0-8d0c-b1fcae9aa4ac",
        "colab": {
          "base_uri": "https://localhost:8080/",
          "height": 84
        }
      },
      "source": [
        "import math\n",
        "def Cylinder(r,h):\n",
        " return 2*math.pi*r*r*h\n",
        "def cone(r,h):\n",
        " return (1/3)*math.pi*r*r*h\n",
        "r=int(input(\"enter r value : \"))\n",
        "h=int(input(\"enter h value\"))\n",
        "print(\"surface area of cylinder is : %.2f\"%Cylinder(r,h))\n",
        "print(\"surface area of cone is : %.2f \"%cone(r,h))\n"
      ],
      "execution_count": 0,
      "outputs": [
        {
          "output_type": "stream",
          "text": [
            "enter r value : 5\n",
            "enter h value3\n",
            "surface area of cylinder is : 471.24\n",
            "surface area of cone is : 78.54 \n"
          ],
          "name": "stdout"
        }
      ]
    },
    {
      "cell_type": "markdown",
      "metadata": {
        "id": "RKCNsEF7kJsu",
        "colab_type": "text"
      },
      "source": [
        "Find the greatest of four nos ( using ‘and’ operator) using function"
      ]
    },
    {
      "cell_type": "code",
      "metadata": {
        "id": "nj5jEryUkONx",
        "colab_type": "code",
        "outputId": "594138fc-d3eb-41e4-ecc0-44cef8347cd5",
        "colab": {
          "base_uri": "https://localhost:8080/",
          "height": 118
        }
      },
      "source": [
        "a=int(input(\"enter 1st num: \"))\n",
        "b=int(input(\"enter 2nd num: \"))\n",
        "c=int(input(\"enter 3rd num: \"))\n",
        "d=int(input(\"enter 4th num: \"))\n",
        "print(\"greater num is : \")\n",
        "if(a>b and a>c and a>d):\n",
        " print(a)\n",
        "elif(b>c and b>d):\n",
        "  print(b)\n",
        "elif(c>d):\n",
        " print(c)\n",
        "else:\n",
        " print(d)"
      ],
      "execution_count": 0,
      "outputs": [
        {
          "output_type": "stream",
          "text": [
            "enter 1st num: 5\n",
            "enter 2nd num: 8\n",
            "enter 3rd num: 7\n",
            "enter 4th num: 9\n",
            "greater num is : \n",
            "9\n"
          ],
          "name": "stdout"
        }
      ]
    },
    {
      "cell_type": "markdown",
      "metadata": {
        "id": "Z0khHH--kg6u",
        "colab_type": "text"
      },
      "source": [
        "Write a menu program to perform the operations ( ODDorEven,\n",
        "PrimeUptoN ) using functions for two nos with menu choice\n"
      ]
    },
    {
      "cell_type": "code",
      "metadata": {
        "id": "p7HOwfx-klr_",
        "colab_type": "code",
        "outputId": "d5076351-1677-4d31-b6aa-ff9cde02a7ad",
        "colab": {
          "base_uri": "https://localhost:8080/",
          "height": 1000
        }
      },
      "source": [
        "loop = 1\n",
        "choice = 0\n",
        "def oddoreven(a):\n",
        "  if(a%2==0):\n",
        "    print(\"even\")\n",
        "  else:\n",
        "    print(\"odd\")\n",
        "def fact(num):\n",
        " factorial=1\n",
        " if num < 0:\n",
        "  print(\"Sorry, factorial does not exist for negative numbers\")\n",
        " elif num == 0:\n",
        "  print(\"The factorial of 0 is 1\")\n",
        " else:\n",
        "  for i in range(1,num + 1):\n",
        "      factorial = factorial*i\n",
        "  print(\"The factorial of\",num,\"is\",factorial)\n",
        "def odd(n):\n",
        " print(\"odd numbers: \");\n",
        " for i in range(1,n+1):\n",
        "  if(i%2!=0):\n",
        "    print(i)\n",
        "def prime(l,h):\n",
        " print(\"prime numbers: \")\n",
        " for num in range(l,h + 1):\n",
        "    if num > 1:\n",
        "      for i in range(2,num):\n",
        "          if (num % i) == 0:\n",
        "              break\n",
        "      else:\n",
        "          print(num)\n",
        "while loop == 1:\n",
        " print (\"Welcome\")\n",
        " print (\"your options are:\")\n",
        " print (\"\")\n",
        " print(\"1) odd or even\")\n",
        " print(\"2) factorial\")\n",
        " print(\"3) odd upto n\")\n",
        " print(\"4) prime upto n\")\n",
        " print(\"5) Quit \")\n",
        " print(\"\")\n",
        " try:\n",
        "  choice = int(input(\"Choose your option: \"))\n",
        " except:\n",
        "    print('please enter a valid number for option')\n",
        "    print(\"\")\n",
        " print(\"\")\n",
        " if choice == 1:\n",
        "    x = int(input(\" Enter no: \"))\n",
        "    oddoreven(x)\n",
        " elif choice == 2:\n",
        "    x = int(input(\"Enter no: \"))\n",
        "    fact(x)\n",
        "    fact(x)\n",
        " elif choice == 3:\n",
        "  x = int(input(\"Enter range: \"))\n",
        "  odd(x)\n",
        " elif choice == 4:\n",
        "      x = int(input(\"Enter lower range: \"))\n",
        "      y = int(input(\"Enter upper range: \"))\n",
        "      prime(x,y)\n",
        " elif choice == 5:\n",
        "      loop = 0\n",
        " else:\n",
        "      print(\"please choice a valid option from 1 to 5\")\n",
        " choice=0\n",
        "print (\"Thank-you \")  "
      ],
      "execution_count": 0,
      "outputs": [
        {
          "output_type": "stream",
          "text": [
            "Welcome\n",
            "your options are:\n",
            "\n",
            "1) odd or even\n",
            "2) factorial\n",
            "3) odd upto n\n",
            "4) prime upto n\n",
            "5) Quit \n",
            "\n",
            "Choose your option: 1\n",
            "\n",
            " Enter no: 10\n",
            "even\n",
            "Welcome\n",
            "your options are:\n",
            "\n",
            "1) odd or even\n",
            "2) factorial\n",
            "3) odd upto n\n",
            "4) prime upto n\n",
            "5) Quit \n",
            "\n",
            "Choose your option: 2\n",
            "\n",
            "Enter no: 20\n",
            "The factorial of 20 is 2432902008176640000\n",
            "The factorial of 20 is 2432902008176640000\n",
            "Welcome\n",
            "your options are:\n",
            "\n",
            "1) odd or even\n",
            "2) factorial\n",
            "3) odd upto n\n",
            "4) prime upto n\n",
            "5) Quit \n",
            "\n",
            "Choose your option: 3\n",
            "\n",
            "Enter range: 30\n",
            "odd numbers: \n",
            "1\n",
            "3\n",
            "5\n",
            "7\n",
            "9\n",
            "11\n",
            "13\n",
            "15\n",
            "17\n",
            "19\n",
            "21\n",
            "23\n",
            "25\n",
            "27\n",
            "29\n",
            "Welcome\n",
            "your options are:\n",
            "\n",
            "1) odd or even\n",
            "2) factorial\n",
            "3) odd upto n\n",
            "4) prime upto n\n",
            "5) Quit \n",
            "\n",
            "Choose your option: 4\n",
            "\n",
            "Enter lower range: 10\n",
            "Enter upper range: 4\n",
            "prime numbers: \n",
            "Welcome\n",
            "your options are:\n",
            "\n",
            "1) odd or even\n",
            "2) factorial\n",
            "3) odd upto n\n",
            "4) prime upto n\n",
            "5) Quit \n",
            "\n",
            "Choose your option: 10\n",
            "\n",
            "please choice a valid option from 1 to 5\n",
            "Welcome\n",
            "your options are:\n",
            "\n",
            "1) odd or even\n",
            "2) factorial\n",
            "3) odd upto n\n",
            "4) prime upto n\n",
            "5) Quit \n",
            "\n",
            "Choose your option: 5\n",
            "\n",
            "Thank-you \n"
          ],
          "name": "stdout"
        }
      ]
    },
    {
      "cell_type": "markdown",
      "metadata": {
        "id": "VbuP1940m7Xy",
        "colab_type": "text"
      },
      "source": [
        ""
      ]
    }
  ]
}