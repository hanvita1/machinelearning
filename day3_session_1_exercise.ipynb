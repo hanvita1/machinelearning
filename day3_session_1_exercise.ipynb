{
  "nbformat": 4,
  "nbformat_minor": 0,
  "metadata": {
    "colab": {
      "name": "day3 session 1 exercise",
      "provenance": [],
      "authorship_tag": "ABX9TyNskOX1phHQPU8WcPKiBFsd",
      "include_colab_link": true
    },
    "kernelspec": {
      "name": "python3",
      "display_name": "Python 3"
    }
  },
  "cells": [
    {
      "cell_type": "markdown",
      "metadata": {
        "id": "view-in-github",
        "colab_type": "text"
      },
      "source": [
        "<a href=\"https://colab.research.google.com/github/hanvita1/machinelearning/blob/master/day3_session_1_exercise.ipynb\" target=\"_parent\"><img src=\"https://colab.research.google.com/assets/colab-badge.svg\" alt=\"Open In Colab\"/></a>"
      ]
    },
    {
      "cell_type": "code",
      "metadata": {
        "id": "BkRTjKuKgmYE",
        "colab_type": "code",
        "colab": {}
      },
      "source": [
        ""
      ],
      "execution_count": null,
      "outputs": []
    },
    {
      "cell_type": "markdown",
      "metadata": {
        "id": "__euOl40gm7Y",
        "colab_type": "text"
      },
      "source": [
        "Write a Pandas program to create and display a one-dimensional array using series containing even numbers upto 10000\n"
      ]
    },
    {
      "cell_type": "code",
      "metadata": {
        "id": "TFaO_3hfgpRt",
        "colab_type": "code",
        "colab": {
          "base_uri": "https://localhost:8080/",
          "height": 217
        },
        "outputId": "552edc66-d7e5-4a9e-8513-e053df3ac47b"
      },
      "source": [
        "import pandas as pd\n",
        "l=([i for i in range(0,10000) if i%2==0])\n",
        "ds = pd.Series(l) \n",
        "print(ds)"
      ],
      "execution_count": 1,
      "outputs": [
        {
          "output_type": "stream",
          "text": [
            "0          0\n",
            "1          2\n",
            "2          4\n",
            "3          6\n",
            "4          8\n",
            "        ... \n",
            "4995    9990\n",
            "4996    9992\n",
            "4997    9994\n",
            "4998    9996\n",
            "4999    9998\n",
            "Length: 5000, dtype: int64\n"
          ],
          "name": "stdout"
        }
      ]
    },
    {
      "cell_type": "markdown",
      "metadata": {
        "id": "FkvYQfoqgvkW",
        "colab_type": "text"
      },
      "source": [
        "Write a Pandas program to convert a Panda module Series of the numbers which are between 1000 and 2000 (both inclusive) and divisable by 5 to Python list and after convertion print its type\n"
      ]
    },
    {
      "cell_type": "code",
      "metadata": {
        "id": "8Ity39WMgzHk",
        "colab_type": "code",
        "colab": {
          "base_uri": "https://localhost:8080/",
          "height": 271
        },
        "outputId": "fca595d4-7c05-40c7-d480-914e025ebe0a"
      },
      "source": [
        "import pandas as pd\n",
        "d = pd.Series([i for i in range(1000,2001) if i%5==0]) \n",
        "print(d)\n",
        "print(d.tolist())\n",
        "print(type(d.tolist()))"
      ],
      "execution_count": 2,
      "outputs": [
        {
          "output_type": "stream",
          "text": [
            "0      1000\n",
            "1      1005\n",
            "2      1010\n",
            "3      1015\n",
            "4      1020\n",
            "       ... \n",
            "196    1980\n",
            "197    1985\n",
            "198    1990\n",
            "199    1995\n",
            "200    2000\n",
            "Length: 201, dtype: int64\n",
            "[1000, 1005, 1010, 1015, 1020, 1025, 1030, 1035, 1040, 1045, 1050, 1055, 1060, 1065, 1070, 1075, 1080, 1085, 1090, 1095, 1100, 1105, 1110, 1115, 1120, 1125, 1130, 1135, 1140, 1145, 1150, 1155, 1160, 1165, 1170, 1175, 1180, 1185, 1190, 1195, 1200, 1205, 1210, 1215, 1220, 1225, 1230, 1235, 1240, 1245, 1250, 1255, 1260, 1265, 1270, 1275, 1280, 1285, 1290, 1295, 1300, 1305, 1310, 1315, 1320, 1325, 1330, 1335, 1340, 1345, 1350, 1355, 1360, 1365, 1370, 1375, 1380, 1385, 1390, 1395, 1400, 1405, 1410, 1415, 1420, 1425, 1430, 1435, 1440, 1445, 1450, 1455, 1460, 1465, 1470, 1475, 1480, 1485, 1490, 1495, 1500, 1505, 1510, 1515, 1520, 1525, 1530, 1535, 1540, 1545, 1550, 1555, 1560, 1565, 1570, 1575, 1580, 1585, 1590, 1595, 1600, 1605, 1610, 1615, 1620, 1625, 1630, 1635, 1640, 1645, 1650, 1655, 1660, 1665, 1670, 1675, 1680, 1685, 1690, 1695, 1700, 1705, 1710, 1715, 1720, 1725, 1730, 1735, 1740, 1745, 1750, 1755, 1760, 1765, 1770, 1775, 1780, 1785, 1790, 1795, 1800, 1805, 1810, 1815, 1820, 1825, 1830, 1835, 1840, 1845, 1850, 1855, 1860, 1865, 1870, 1875, 1880, 1885, 1890, 1895, 1900, 1905, 1910, 1915, 1920, 1925, 1930, 1935, 1940, 1945, 1950, 1955, 1960, 1965, 1970, 1975, 1980, 1985, 1990, 1995, 2000]\n",
            "<class 'list'>\n"
          ],
          "name": "stdout"
        }
      ]
    },
    {
      "cell_type": "markdown",
      "metadata": {
        "id": "2HcdAQ1lg456",
        "colab_type": "text"
      },
      "source": [
        "Write a Pandas program to add, subtract, multiple and divide two Pandas Series and print their results using the Sample Series: [2, 4, 6, 8, ...100], [1, 3, 5, 7, 9...99]"
      ]
    },
    {
      "cell_type": "code",
      "metadata": {
        "id": "9aH40zR8g8zx",
        "colab_type": "code",
        "colab": {
          "base_uri": "https://localhost:8080/",
          "height": 1000
        },
        "outputId": "922e237a-c2c0-4c51-9bb9-f19affee9273"
      },
      "source": [
        "import pandas as pd\n",
        "l1=([i for i in range(1,101) if i%2==0])\n",
        "l2=([i for i in range(1,100) if i%2==1])\n",
        "d1=pd.Series(l1)\n",
        "d2=pd.Series(l2)\n",
        "print(f'Addition Of  Two Series:\\n{d1+d2}')\n",
        "print(f'Subtraction Of  Two Series:\\n{d1-d2}')\n",
        "print(f'Multiplication Of  Two Series:\\n{d1*d2}')\n",
        "print(f'Division Of  Two Series:\\n{d1/d2}')"
      ],
      "execution_count": 3,
      "outputs": [
        {
          "output_type": "stream",
          "text": [
            "Addition Of  Two Series:\n",
            "0       3\n",
            "1       7\n",
            "2      11\n",
            "3      15\n",
            "4      19\n",
            "5      23\n",
            "6      27\n",
            "7      31\n",
            "8      35\n",
            "9      39\n",
            "10     43\n",
            "11     47\n",
            "12     51\n",
            "13     55\n",
            "14     59\n",
            "15     63\n",
            "16     67\n",
            "17     71\n",
            "18     75\n",
            "19     79\n",
            "20     83\n",
            "21     87\n",
            "22     91\n",
            "23     95\n",
            "24     99\n",
            "25    103\n",
            "26    107\n",
            "27    111\n",
            "28    115\n",
            "29    119\n",
            "30    123\n",
            "31    127\n",
            "32    131\n",
            "33    135\n",
            "34    139\n",
            "35    143\n",
            "36    147\n",
            "37    151\n",
            "38    155\n",
            "39    159\n",
            "40    163\n",
            "41    167\n",
            "42    171\n",
            "43    175\n",
            "44    179\n",
            "45    183\n",
            "46    187\n",
            "47    191\n",
            "48    195\n",
            "49    199\n",
            "dtype: int64\n",
            "Subtraction Of  Two Series:\n",
            "0     1\n",
            "1     1\n",
            "2     1\n",
            "3     1\n",
            "4     1\n",
            "5     1\n",
            "6     1\n",
            "7     1\n",
            "8     1\n",
            "9     1\n",
            "10    1\n",
            "11    1\n",
            "12    1\n",
            "13    1\n",
            "14    1\n",
            "15    1\n",
            "16    1\n",
            "17    1\n",
            "18    1\n",
            "19    1\n",
            "20    1\n",
            "21    1\n",
            "22    1\n",
            "23    1\n",
            "24    1\n",
            "25    1\n",
            "26    1\n",
            "27    1\n",
            "28    1\n",
            "29    1\n",
            "30    1\n",
            "31    1\n",
            "32    1\n",
            "33    1\n",
            "34    1\n",
            "35    1\n",
            "36    1\n",
            "37    1\n",
            "38    1\n",
            "39    1\n",
            "40    1\n",
            "41    1\n",
            "42    1\n",
            "43    1\n",
            "44    1\n",
            "45    1\n",
            "46    1\n",
            "47    1\n",
            "48    1\n",
            "49    1\n",
            "dtype: int64\n",
            "Multiplication Of  Two Series:\n",
            "0        2\n",
            "1       12\n",
            "2       30\n",
            "3       56\n",
            "4       90\n",
            "5      132\n",
            "6      182\n",
            "7      240\n",
            "8      306\n",
            "9      380\n",
            "10     462\n",
            "11     552\n",
            "12     650\n",
            "13     756\n",
            "14     870\n",
            "15     992\n",
            "16    1122\n",
            "17    1260\n",
            "18    1406\n",
            "19    1560\n",
            "20    1722\n",
            "21    1892\n",
            "22    2070\n",
            "23    2256\n",
            "24    2450\n",
            "25    2652\n",
            "26    2862\n",
            "27    3080\n",
            "28    3306\n",
            "29    3540\n",
            "30    3782\n",
            "31    4032\n",
            "32    4290\n",
            "33    4556\n",
            "34    4830\n",
            "35    5112\n",
            "36    5402\n",
            "37    5700\n",
            "38    6006\n",
            "39    6320\n",
            "40    6642\n",
            "41    6972\n",
            "42    7310\n",
            "43    7656\n",
            "44    8010\n",
            "45    8372\n",
            "46    8742\n",
            "47    9120\n",
            "48    9506\n",
            "49    9900\n",
            "dtype: int64\n",
            "Division Of  Two Series:\n",
            "0     2.000000\n",
            "1     1.333333\n",
            "2     1.200000\n",
            "3     1.142857\n",
            "4     1.111111\n",
            "5     1.090909\n",
            "6     1.076923\n",
            "7     1.066667\n",
            "8     1.058824\n",
            "9     1.052632\n",
            "10    1.047619\n",
            "11    1.043478\n",
            "12    1.040000\n",
            "13    1.037037\n",
            "14    1.034483\n",
            "15    1.032258\n",
            "16    1.030303\n",
            "17    1.028571\n",
            "18    1.027027\n",
            "19    1.025641\n",
            "20    1.024390\n",
            "21    1.023256\n",
            "22    1.022222\n",
            "23    1.021277\n",
            "24    1.020408\n",
            "25    1.019608\n",
            "26    1.018868\n",
            "27    1.018182\n",
            "28    1.017544\n",
            "29    1.016949\n",
            "30    1.016393\n",
            "31    1.015873\n",
            "32    1.015385\n",
            "33    1.014925\n",
            "34    1.014493\n",
            "35    1.014085\n",
            "36    1.013699\n",
            "37    1.013333\n",
            "38    1.012987\n",
            "39    1.012658\n",
            "40    1.012346\n",
            "41    1.012048\n",
            "42    1.011765\n",
            "43    1.011494\n",
            "44    1.011236\n",
            "45    1.010989\n",
            "46    1.010753\n",
            "47    1.010526\n",
            "48    1.010309\n",
            "49    1.010101\n",
            "dtype: float64\n"
          ],
          "name": "stdout"
        }
      ]
    },
    {
      "cell_type": "markdown",
      "metadata": {
        "id": "n5VrtpcdhAku",
        "colab_type": "text"
      },
      "source": [
        "Write a Pandas program to compare (Equivalence, greater than, less than, not equal to )the elements of the two Pandas Series.Sample Series: [All positive numbers divisable by 7 upto 1000], [All positive numbers divisable by 11 upto 1000]\n"
      ]
    },
    {
      "cell_type": "code",
      "metadata": {
        "id": "LlOR3ygyhEJg",
        "colab_type": "code",
        "colab": {
          "base_uri": "https://localhost:8080/",
          "height": 1000
        },
        "outputId": "496efa9a-62f3-4e29-b49d-915d1194e56d"
      },
      "source": [
        "import pandas as pd\n",
        "l1=([i for i in range(1,1000) if i%7==0])\n",
        "l2=([i for i in range(1,1000) if i%11==0])\n",
        "d1 = pd.Series(l1)\n",
        "d2 = pd.Series(l2)\n",
        "print(\"Compare the elements of the said Series:\")\n",
        "print(\"Equals:\")\n",
        "for i in range (len(l2)):\n",
        "  print(i,\" \",d1[i]==d2[i])\n",
        "print(\"Greater than:\")\n",
        "for i in range(len(l2)):\n",
        "  print(i,\" \",d1[i]>d2[i])\n",
        "print(\"Less than:\")\n",
        "for i in range(len(l2)):\n",
        "  print(i,\" \",d1[i]<d2[i])"
      ],
      "execution_count": 4,
      "outputs": [
        {
          "output_type": "stream",
          "text": [
            "Compare the elements of the said Series:\n",
            "Equals:\n",
            "0   False\n",
            "1   False\n",
            "2   False\n",
            "3   False\n",
            "4   False\n",
            "5   False\n",
            "6   False\n",
            "7   False\n",
            "8   False\n",
            "9   False\n",
            "10   False\n",
            "11   False\n",
            "12   False\n",
            "13   False\n",
            "14   False\n",
            "15   False\n",
            "16   False\n",
            "17   False\n",
            "18   False\n",
            "19   False\n",
            "20   False\n",
            "21   False\n",
            "22   False\n",
            "23   False\n",
            "24   False\n",
            "25   False\n",
            "26   False\n",
            "27   False\n",
            "28   False\n",
            "29   False\n",
            "30   False\n",
            "31   False\n",
            "32   False\n",
            "33   False\n",
            "34   False\n",
            "35   False\n",
            "36   False\n",
            "37   False\n",
            "38   False\n",
            "39   False\n",
            "40   False\n",
            "41   False\n",
            "42   False\n",
            "43   False\n",
            "44   False\n",
            "45   False\n",
            "46   False\n",
            "47   False\n",
            "48   False\n",
            "49   False\n",
            "50   False\n",
            "51   False\n",
            "52   False\n",
            "53   False\n",
            "54   False\n",
            "55   False\n",
            "56   False\n",
            "57   False\n",
            "58   False\n",
            "59   False\n",
            "60   False\n",
            "61   False\n",
            "62   False\n",
            "63   False\n",
            "64   False\n",
            "65   False\n",
            "66   False\n",
            "67   False\n",
            "68   False\n",
            "69   False\n",
            "70   False\n",
            "71   False\n",
            "72   False\n",
            "73   False\n",
            "74   False\n",
            "75   False\n",
            "76   False\n",
            "77   False\n",
            "78   False\n",
            "79   False\n",
            "80   False\n",
            "81   False\n",
            "82   False\n",
            "83   False\n",
            "84   False\n",
            "85   False\n",
            "86   False\n",
            "87   False\n",
            "88   False\n",
            "89   False\n",
            "Greater than:\n",
            "0   False\n",
            "1   False\n",
            "2   False\n",
            "3   False\n",
            "4   False\n",
            "5   False\n",
            "6   False\n",
            "7   False\n",
            "8   False\n",
            "9   False\n",
            "10   False\n",
            "11   False\n",
            "12   False\n",
            "13   False\n",
            "14   False\n",
            "15   False\n",
            "16   False\n",
            "17   False\n",
            "18   False\n",
            "19   False\n",
            "20   False\n",
            "21   False\n",
            "22   False\n",
            "23   False\n",
            "24   False\n",
            "25   False\n",
            "26   False\n",
            "27   False\n",
            "28   False\n",
            "29   False\n",
            "30   False\n",
            "31   False\n",
            "32   False\n",
            "33   False\n",
            "34   False\n",
            "35   False\n",
            "36   False\n",
            "37   False\n",
            "38   False\n",
            "39   False\n",
            "40   False\n",
            "41   False\n",
            "42   False\n",
            "43   False\n",
            "44   False\n",
            "45   False\n",
            "46   False\n",
            "47   False\n",
            "48   False\n",
            "49   False\n",
            "50   False\n",
            "51   False\n",
            "52   False\n",
            "53   False\n",
            "54   False\n",
            "55   False\n",
            "56   False\n",
            "57   False\n",
            "58   False\n",
            "59   False\n",
            "60   False\n",
            "61   False\n",
            "62   False\n",
            "63   False\n",
            "64   False\n",
            "65   False\n",
            "66   False\n",
            "67   False\n",
            "68   False\n",
            "69   False\n",
            "70   False\n",
            "71   False\n",
            "72   False\n",
            "73   False\n",
            "74   False\n",
            "75   False\n",
            "76   False\n",
            "77   False\n",
            "78   False\n",
            "79   False\n",
            "80   False\n",
            "81   False\n",
            "82   False\n",
            "83   False\n",
            "84   False\n",
            "85   False\n",
            "86   False\n",
            "87   False\n",
            "88   False\n",
            "89   False\n",
            "Less than:\n",
            "0   True\n",
            "1   True\n",
            "2   True\n",
            "3   True\n",
            "4   True\n",
            "5   True\n",
            "6   True\n",
            "7   True\n",
            "8   True\n",
            "9   True\n",
            "10   True\n",
            "11   True\n",
            "12   True\n",
            "13   True\n",
            "14   True\n",
            "15   True\n",
            "16   True\n",
            "17   True\n",
            "18   True\n",
            "19   True\n",
            "20   True\n",
            "21   True\n",
            "22   True\n",
            "23   True\n",
            "24   True\n",
            "25   True\n",
            "26   True\n",
            "27   True\n",
            "28   True\n",
            "29   True\n",
            "30   True\n",
            "31   True\n",
            "32   True\n",
            "33   True\n",
            "34   True\n",
            "35   True\n",
            "36   True\n",
            "37   True\n",
            "38   True\n",
            "39   True\n",
            "40   True\n",
            "41   True\n",
            "42   True\n",
            "43   True\n",
            "44   True\n",
            "45   True\n",
            "46   True\n",
            "47   True\n",
            "48   True\n",
            "49   True\n",
            "50   True\n",
            "51   True\n",
            "52   True\n",
            "53   True\n",
            "54   True\n",
            "55   True\n",
            "56   True\n",
            "57   True\n",
            "58   True\n",
            "59   True\n",
            "60   True\n",
            "61   True\n",
            "62   True\n",
            "63   True\n",
            "64   True\n",
            "65   True\n",
            "66   True\n",
            "67   True\n",
            "68   True\n",
            "69   True\n",
            "70   True\n",
            "71   True\n",
            "72   True\n",
            "73   True\n",
            "74   True\n",
            "75   True\n",
            "76   True\n",
            "77   True\n",
            "78   True\n",
            "79   True\n",
            "80   True\n",
            "81   True\n",
            "82   True\n",
            "83   True\n",
            "84   True\n",
            "85   True\n",
            "86   True\n",
            "87   True\n",
            "88   True\n",
            "89   True\n"
          ],
          "name": "stdout"
        }
      ]
    },
    {
      "cell_type": "markdown",
      "metadata": {
        "id": "CjIRkQoPhIhF",
        "colab_type": "text"
      },
      "source": [
        "Write a Pandas program to convert a NumPy array to a Pandas series.\n",
        "Sample NumPy array: d1 = [10, 20, 30, 40, 50... 1000]"
      ]
    },
    {
      "cell_type": "code",
      "metadata": {
        "id": "4Gt4mhP9hNbm",
        "colab_type": "code",
        "colab": {
          "base_uri": "https://localhost:8080/",
          "height": 385
        },
        "outputId": "144f4843-227b-48c3-8b8f-1bd35adbd9d7"
      },
      "source": [
        "import numpy as np\n",
        "import pandas as pd\n",
        "l1=([i for i in range(1,1001) if i%10==0])\n",
        "a = np.array(l1)\n",
        "print(f\"NumPy array:\\n{a}\")\n",
        "print(f\"Converted Pandas series:\\n{pd.Series(a)}\")"
      ],
      "execution_count": 5,
      "outputs": [
        {
          "output_type": "stream",
          "text": [
            "NumPy array:\n",
            "[  10   20   30   40   50   60   70   80   90  100  110  120  130  140\n",
            "  150  160  170  180  190  200  210  220  230  240  250  260  270  280\n",
            "  290  300  310  320  330  340  350  360  370  380  390  400  410  420\n",
            "  430  440  450  460  470  480  490  500  510  520  530  540  550  560\n",
            "  570  580  590  600  610  620  630  640  650  660  670  680  690  700\n",
            "  710  720  730  740  750  760  770  780  790  800  810  820  830  840\n",
            "  850  860  870  880  890  900  910  920  930  940  950  960  970  980\n",
            "  990 1000]\n",
            "Converted Pandas series:\n",
            "0       10\n",
            "1       20\n",
            "2       30\n",
            "3       40\n",
            "4       50\n",
            "      ... \n",
            "95     960\n",
            "96     970\n",
            "97     980\n",
            "98     990\n",
            "99    1000\n",
            "Length: 100, dtype: int64\n"
          ],
          "name": "stdout"
        }
      ]
    },
    {
      "cell_type": "markdown",
      "metadata": {
        "id": "LjbJ-b2shRgt",
        "colab_type": "text"
      },
      "source": [
        "Write a Pandas program to convert a given Series to an array.\n",
        "Sample series is ['100', '200', ‘300’,’400’,’500’,'python', '300.12', '400',’is’,’great’,’language’]"
      ]
    },
    {
      "cell_type": "code",
      "metadata": {
        "id": "td_Qw_k9hUnn",
        "colab_type": "code",
        "colab": {
          "base_uri": "https://localhost:8080/",
          "height": 284
        },
        "outputId": "79dcfd1a-b86b-411c-d834-362a62009696"
      },
      "source": [
        "import numpy as np\n",
        "s1 = pd.Series(['100', '200', '300','400','500','python', '300.12', '400','is','great','language'])\n",
        "print(f\"Original Data Series:\\n{s1}\")\n",
        "print(f\"Series to an array:\\n{np.array(s1.values.tolist())}\")"
      ],
      "execution_count": 6,
      "outputs": [
        {
          "output_type": "stream",
          "text": [
            "Original Data Series:\n",
            "0          100\n",
            "1          200\n",
            "2          300\n",
            "3          400\n",
            "4          500\n",
            "5       python\n",
            "6       300.12\n",
            "7          400\n",
            "8           is\n",
            "9        great\n",
            "10    language\n",
            "dtype: object\n",
            "Series to an array:\n",
            "['100' '200' '300' '400' '500' 'python' '300.12' '400' 'is' 'great'\n",
            " 'language']\n"
          ],
          "name": "stdout"
        }
      ]
    },
    {
      "cell_type": "markdown",
      "metadata": {
        "id": "NDpYvUzehdGo",
        "colab_type": "text"
      },
      "source": [
        "Write a Pandas program to sort a given Series.\n",
        "Sample series is ['100', '200', ‘300’,’400’,’500’,'python', '300.12', '400',’is’,’great’,’language’]"
      ]
    },
    {
      "cell_type": "code",
      "metadata": {
        "id": "bU4XpRqHhhER",
        "colab_type": "code",
        "colab": {
          "base_uri": "https://localhost:8080/",
          "height": 435
        },
        "outputId": "f09d817f-8fa9-473e-ef4a-e2e09faca6f4"
      },
      "source": [
        "import pandas as pd\n",
        "s = pd.Series(['100', '200', '300','400','500','python', '300.12', '400','is','great','language'])\n",
        "print(f\"Original Data Series:\\n{s}\")\n",
        "print(pd.Series(s).sort_values())"
      ],
      "execution_count": 7,
      "outputs": [
        {
          "output_type": "stream",
          "text": [
            "Original Data Series:\n",
            "0          100\n",
            "1          200\n",
            "2          300\n",
            "3          400\n",
            "4          500\n",
            "5       python\n",
            "6       300.12\n",
            "7          400\n",
            "8           is\n",
            "9        great\n",
            "10    language\n",
            "dtype: object\n",
            "0          100\n",
            "1          200\n",
            "2          300\n",
            "6       300.12\n",
            "3          400\n",
            "7          400\n",
            "4          500\n",
            "9        great\n",
            "8           is\n",
            "10    language\n",
            "5       python\n",
            "dtype: object\n"
          ],
          "name": "stdout"
        }
      ]
    },
    {
      "cell_type": "markdown",
      "metadata": {
        "id": "hiRwSFbxhlic",
        "colab_type": "text"
      },
      "source": [
        "Write a Pandas program to create a subsets of a given series based on value and condition.\n",
        "Sample NumPy array: d1 = [10, 20, 30, 40, 50... 1000]\n",
        "value and condtion : Subset 1 :numbers divisable by 7 Subset 2 : numbers divisable by 5"
      ]
    },
    {
      "cell_type": "code",
      "metadata": {
        "id": "fw0GtC4ihoaC",
        "colab_type": "code",
        "colab": {
          "base_uri": "https://localhost:8080/",
          "height": 702
        },
        "outputId": "deb7486b-3bb6-4513-d0a1-65d3e07ad410"
      },
      "source": [
        "import pandas as pd\n",
        "s = pd.Series(([i for i in range(1,1001) if i%10==0]))\n",
        "print(f\"Original Data Series:\\n{s}\")\n",
        "print(f\"Subset of the above Data Series:\\n{s[s%7==0]}\\n{s[s%5==0]}\")"
      ],
      "execution_count": 8,
      "outputs": [
        {
          "output_type": "stream",
          "text": [
            "Original Data Series:\n",
            "0       10\n",
            "1       20\n",
            "2       30\n",
            "3       40\n",
            "4       50\n",
            "      ... \n",
            "95     960\n",
            "96     970\n",
            "97     980\n",
            "98     990\n",
            "99    1000\n",
            "Length: 100, dtype: int64\n",
            "Subset of the above Data Series:\n",
            "6      70\n",
            "13    140\n",
            "20    210\n",
            "27    280\n",
            "34    350\n",
            "41    420\n",
            "48    490\n",
            "55    560\n",
            "62    630\n",
            "69    700\n",
            "76    770\n",
            "83    840\n",
            "90    910\n",
            "97    980\n",
            "dtype: int64\n",
            "0       10\n",
            "1       20\n",
            "2       30\n",
            "3       40\n",
            "4       50\n",
            "      ... \n",
            "95     960\n",
            "96     970\n",
            "97     980\n",
            "98     990\n",
            "99    1000\n",
            "Length: 100, dtype: int64\n"
          ],
          "name": "stdout"
        }
      ]
    },
    {
      "cell_type": "markdown",
      "metadata": {
        "id": "HRNKPkm3huuT",
        "colab_type": "text"
      },
      "source": [
        "Write a Pandas program to create the mean and standard deviation, maximum and minimum of the data of a given Series of the prime numbers upto 1000\n"
      ]
    },
    {
      "cell_type": "code",
      "metadata": {
        "id": "nobtUdgshx-i",
        "colab_type": "code",
        "colab": {
          "base_uri": "https://localhost:8080/",
          "height": 370
        },
        "outputId": "56d9df60-69e6-4f88-ad04-bc525e431662"
      },
      "source": [
        "import pandas as pd\n",
        "l=[2]\n",
        "for v in range(3,1001):\n",
        "  for n in range(2, v): \n",
        "    if (v % n) == 0: \n",
        "      break\n",
        "    elif(n==v-1):\n",
        "      l.append(v)\n",
        "s = pd.Series(l)\n",
        "print(f\"Original Data Series:\\n{s}\")\n",
        "print(f\"Mean of the said Data Series:\\n{s.mean()}\")\n",
        "print(f\"Standard deviation of the said Data Series:\\n{s.std()}\")\n",
        "print(f\"Max of the said Data Series:\\n{s.max()}\")\n",
        "print(f\"Min of the said Data Series:\\n{s.min()}\")"
      ],
      "execution_count": 9,
      "outputs": [
        {
          "output_type": "stream",
          "text": [
            "Original Data Series:\n",
            "0        2\n",
            "1        3\n",
            "2        5\n",
            "3        7\n",
            "4       11\n",
            "      ... \n",
            "163    971\n",
            "164    977\n",
            "165    983\n",
            "166    991\n",
            "167    997\n",
            "Length: 168, dtype: int64\n",
            "Mean of the said Data Series:\n",
            "453.13690476190476\n",
            "Standard deviation of the said Data Series:\n",
            "298.19241719366255\n",
            "Max of the said Data Series:\n",
            "997\n",
            "Min of the said Data Series:\n",
            "2\n"
          ],
          "name": "stdout"
        }
      ]
    },
    {
      "cell_type": "markdown",
      "metadata": {
        "id": "gatjKw2EiFDv",
        "colab_type": "text"
      },
      "source": [
        "Write a Pandas program to get the elements of an array values into column-wise.\n",
        "Sample data: {‘X’:[All odd numbers but not divisable by 7 upto 1000], 'Y':[ All even numbers but not divisable by 5 upto 1000 ],'Z':[ All odd numbers but not divisable by 3 upto 1000]}"
      ]
    },
    {
      "cell_type": "code",
      "metadata": {
        "id": "dcM55PpHiISk",
        "colab_type": "code",
        "colab": {
          "base_uri": "https://localhost:8080/",
          "height": 418
        },
        "outputId": "84137485-b985-4228-bd48-4f1bbef38a62"
      },
      "source": [
        "import pandas as pd\n",
        "l1=([i for i in range(0,1001) if i%7!=0 and i%2!=0])\n",
        "l2=([i for i in range(0,1001) if i%2==0 and i%5!=0])\n",
        "l3=([i for i in range(0,1001) if i%2!=0 and i%3!=0])\n",
        "if(len(l1)>len(l2) and len(l1)>len(l3)):\n",
        "  for i in range(len(l1)-len(l2)):\n",
        "    l2.append(\"null\")\n",
        "  for i in range(len(l1)-len(l3)):\n",
        "    l3.append(\"null\")\n",
        "elif(len(l2)>len(l1) and len(l3)>len(l3)):\n",
        "  for i in range(len(l2)-len(l1)):\n",
        "    l1.append(\"null\")\n",
        "  for i in range(len(l2)-len(l3)):\n",
        "    l3.append(\"null\")\n",
        "else:\n",
        "  for i in range(len(l3)-len(l2)):\n",
        "    l2.append(\"null\")\n",
        "  for i in range(len(l3)-len(l1)):\n",
        "    l1.append(\"null\")\n",
        "print(len(l1),len(l2),len(l3))\n",
        "df = pd.DataFrame({'X':l1, 'Y':l2,'Z':l3});\n",
        "df"
      ],
      "execution_count": 10,
      "outputs": [
        {
          "output_type": "stream",
          "text": [
            "429 429 429\n"
          ],
          "name": "stdout"
        },
        {
          "output_type": "execute_result",
          "data": {
            "text/html": [
              "<div>\n",
              "<style scoped>\n",
              "    .dataframe tbody tr th:only-of-type {\n",
              "        vertical-align: middle;\n",
              "    }\n",
              "\n",
              "    .dataframe tbody tr th {\n",
              "        vertical-align: top;\n",
              "    }\n",
              "\n",
              "    .dataframe thead th {\n",
              "        text-align: right;\n",
              "    }\n",
              "</style>\n",
              "<table border=\"1\" class=\"dataframe\">\n",
              "  <thead>\n",
              "    <tr style=\"text-align: right;\">\n",
              "      <th></th>\n",
              "      <th>X</th>\n",
              "      <th>Y</th>\n",
              "      <th>Z</th>\n",
              "    </tr>\n",
              "  </thead>\n",
              "  <tbody>\n",
              "    <tr>\n",
              "      <th>0</th>\n",
              "      <td>1</td>\n",
              "      <td>2</td>\n",
              "      <td>1</td>\n",
              "    </tr>\n",
              "    <tr>\n",
              "      <th>1</th>\n",
              "      <td>3</td>\n",
              "      <td>4</td>\n",
              "      <td>5</td>\n",
              "    </tr>\n",
              "    <tr>\n",
              "      <th>2</th>\n",
              "      <td>5</td>\n",
              "      <td>6</td>\n",
              "      <td>7</td>\n",
              "    </tr>\n",
              "    <tr>\n",
              "      <th>3</th>\n",
              "      <td>9</td>\n",
              "      <td>8</td>\n",
              "      <td>11</td>\n",
              "    </tr>\n",
              "    <tr>\n",
              "      <th>4</th>\n",
              "      <td>11</td>\n",
              "      <td>12</td>\n",
              "      <td>13</td>\n",
              "    </tr>\n",
              "    <tr>\n",
              "      <th>...</th>\n",
              "      <td>...</td>\n",
              "      <td>...</td>\n",
              "      <td>...</td>\n",
              "    </tr>\n",
              "    <tr>\n",
              "      <th>424</th>\n",
              "      <td>991</td>\n",
              "      <td>null</td>\n",
              "      <td>null</td>\n",
              "    </tr>\n",
              "    <tr>\n",
              "      <th>425</th>\n",
              "      <td>993</td>\n",
              "      <td>null</td>\n",
              "      <td>null</td>\n",
              "    </tr>\n",
              "    <tr>\n",
              "      <th>426</th>\n",
              "      <td>995</td>\n",
              "      <td>null</td>\n",
              "      <td>null</td>\n",
              "    </tr>\n",
              "    <tr>\n",
              "      <th>427</th>\n",
              "      <td>997</td>\n",
              "      <td>null</td>\n",
              "      <td>null</td>\n",
              "    </tr>\n",
              "    <tr>\n",
              "      <th>428</th>\n",
              "      <td>999</td>\n",
              "      <td>null</td>\n",
              "      <td>null</td>\n",
              "    </tr>\n",
              "  </tbody>\n",
              "</table>\n",
              "<p>429 rows × 3 columns</p>\n",
              "</div>"
            ],
            "text/plain": [
              "       X     Y     Z\n",
              "0      1     2     1\n",
              "1      3     4     5\n",
              "2      5     6     7\n",
              "3      9     8    11\n",
              "4     11    12    13\n",
              "..   ...   ...   ...\n",
              "424  991  null  null\n",
              "425  993  null  null\n",
              "426  995  null  null\n",
              "427  997  null  null\n",
              "428  999  null  null\n",
              "\n",
              "[429 rows x 3 columns]"
            ]
          },
          "metadata": {
            "tags": []
          },
          "execution_count": 10
        }
      ]
    },
    {
      "cell_type": "markdown",
      "metadata": {
        "id": "n9oVkI4ViVvx",
        "colab_type": "text"
      },
      "source": [
        "Write a Pandas program to display the first 10 rows of the DataFrame for any particular three fields.Write a Pandas program to get the details of theseventh movie of the DataFrame for any particular three fields (movie_metadata.csv file)."
      ]
    },
    {
      "cell_type": "code",
      "metadata": {
        "id": "mpvwoYnVhaEe",
        "colab_type": "code",
        "colab": {}
      },
      "source": [
        "import pandas as pd\n",
        "df = pd.read_csv('/movies.csv')\n",
        "small_df = df[['rating','budget','year']]\n",
        "print(f\"First 10 rows of the DataFrame:\\n{small_df.head(10)}\")"
      ],
      "execution_count": null,
      "outputs": []
    },
    {
      "cell_type": "markdown",
      "metadata": {
        "id": "uNVuujXCigQK",
        "colab_type": "text"
      },
      "source": [
        "Write a Pandas program to sort the DataFrame based on title_year from dataset of movie_metadata.csv for any particular three fields\n"
      ]
    },
    {
      "cell_type": "code",
      "metadata": {
        "id": "uSBb_EKyijnm",
        "colab_type": "code",
        "colab": {}
      },
      "source": [
        "import pandas as pd\n",
        "import numpy as np\n",
        "df = pd.read_csv('/movies.csv')\n",
        "small_df = df[['rating','budget','year']]\n",
        "print(f\"sorted by year:\\n{small_df.sort_values('year')}\")"
      ],
      "execution_count": null,
      "outputs": []
    },
    {
      "cell_type": "markdown",
      "metadata": {
        "id": "1XGBuqfqimVI",
        "colab_type": "text"
      },
      "source": [
        "Write a Pandas program to sort the DataFrame based on country and language from dataset of movie_metadata.csv"
      ]
    },
    {
      "cell_type": "code",
      "metadata": {
        "id": "GFwQioQGipO3",
        "colab_type": "code",
        "colab": {}
      },
      "source": [
        "import pandas as pd\n",
        "import numpy as np\n",
        "df = pd.read_csv('/movies.csv')\n",
        "print(f\"sorted by country:\\n{df.sort_values('country')}\")\n",
        "print(f\"sorted by lang:\\n{df.sort_values('lang')}\")"
      ],
      "execution_count": null,
      "outputs": []
    },
    {
      "cell_type": "markdown",
      "metadata": {
        "id": "ALwpJreOirv5",
        "colab_type": "text"
      },
      "source": [
        "Write a Pandas program to get the details of the seventh movie of the DataFrame for any particular three fields (movie_metadatacsvfile)."
      ]
    },
    {
      "cell_type": "code",
      "metadata": {
        "id": "qYYyokSqivDH",
        "colab_type": "code",
        "colab": {}
      },
      "source": [
        "import pandas as pd\n",
        "import numpy as np\n",
        "df = pd.read_csv('/movies.csv')\n",
        "small_df = df[['rating','budget','year']]\n",
        "print(f\"{small_df.iloc[7]}\")"
      ],
      "execution_count": null,
      "outputs": []
    },
    {
      "cell_type": "code",
      "metadata": {
        "id": "MRNBQbDBixfQ",
        "colab_type": "code",
        "colab": {}
      },
      "source": [
        ""
      ],
      "execution_count": null,
      "outputs": []
    },
    {
      "cell_type": "markdown",
      "metadata": {
        "id": "qR0eQU2xixzF",
        "colab_type": "text"
      },
      "source": [
        "Write a Pandas program to get the details of the movies record number divisable by 5 of the DataFrame (movie_metadata.csv file)."
      ]
    },
    {
      "cell_type": "code",
      "metadata": {
        "id": "027Smx4Ui0j9",
        "colab_type": "code",
        "colab": {}
      },
      "source": [
        "import pandas as pd\n",
        "import numpy as np\n",
        "df = pd.read_csv('/movies.csv')\n",
        "small_df = df[['rating','budget','year']]\n",
        "for i in range(1,len(df)+1):\n",
        "  if i%5==0:\n",
        "    print(f\"{small_df.iloc[i]}\\n\")"
      ],
      "execution_count": null,
      "outputs": []
    },
    {
      "cell_type": "markdown",
      "metadata": {
        "id": "VDK68pHPi4_n",
        "colab_type": "text"
      },
      "source": [
        "Write a Pandas program to find the mean and standard deviation, maximum and minimum of the data of 50 students Python marks stored in a CSV file called Python_mark.csv( you have to create the file yourself like rollno,mark for 50 records)"
      ]
    },
    {
      "cell_type": "markdown",
      "metadata": {
        "id": "UZTYArZnjBrC",
        "colab_type": "text"
      },
      "source": [
        ""
      ]
    },
    {
      "cell_type": "code",
      "metadata": {
        "id": "uRJJyWdmjHw2",
        "colab_type": "code",
        "colab": {}
      },
      "source": [
        "import pandas as pd\n",
        "df = pd.read_csv('/Python_marks.csv')\n",
        "print(\"file content: \",df)\n",
        "print ('Mean : ' + str(df['marks'].mean()))\n",
        "print ('S.D: ' + str(df['marks'].std() ))\n",
        "print ('Minimum : ' + str(df['marks'].min()))\n",
        "print ('Maximum : ' + str(df['marks'].max()))"
      ],
      "execution_count": null,
      "outputs": []
    },
    {
      "cell_type": "markdown",
      "metadata": {
        "id": "bUr8__7XjIjM",
        "colab_type": "text"
      },
      "source": [
        "Write a NumPy program to create a random 4x4 array and extract the 2nd and 3rd rows of the array and store them into a variable."
      ]
    },
    {
      "cell_type": "code",
      "metadata": {
        "id": "3_puXiChjLif",
        "colab_type": "code",
        "colab": {
          "base_uri": "https://localhost:8080/",
          "height": 134
        },
        "outputId": "df3284ea-5023-4ac8-fb09-256dc01b79d3"
      },
      "source": [
        "import numpy as np\n",
        "x = np.random.random((4,4))\n",
        "print(x)\n",
        "print(\"2nd and 3rd rows of the above array:\")\n",
        "y= x[1:3, :]\n",
        "print(y)"
      ],
      "execution_count": 13,
      "outputs": [
        {
          "output_type": "stream",
          "text": [
            "[[0.70659313 0.62973307 0.3143356  0.62887879]\n",
            " [0.99100114 0.82901472 0.56694492 0.10405374]\n",
            " [0.455456   0.03671303 0.28633416 0.58174975]\n",
            " [0.82377122 0.17169751 0.44060358 0.36880378]]\n",
            "2nd and 3rd rows of the above array:\n",
            "[[0.99100114 0.82901472 0.56694492 0.10405374]\n",
            " [0.455456   0.03671303 0.28633416 0.58174975]]\n"
          ],
          "name": "stdout"
        }
      ]
    },
    {
      "cell_type": "markdown",
      "metadata": {
        "id": "uMN-FLwKjTeW",
        "colab_type": "text"
      },
      "source": [
        "Write a NumPy program to create a 10x10 array with random values and find the minimum and maximum values."
      ]
    },
    {
      "cell_type": "code",
      "metadata": {
        "id": "T1fKQdsMjWqe",
        "colab_type": "code",
        "colab": {
          "base_uri": "https://localhost:8080/",
          "height": 50
        },
        "outputId": "c56c6e35-3095-4de8-8e33-0eb1cde530ab"
      },
      "source": [
        "import numpy as np\n",
        "x=np.arange(20)\n",
        "np.random.shuffle(x)\n",
        "print(x)\n",
        "x.sort()\n",
        "print(x)"
      ],
      "execution_count": 14,
      "outputs": [
        {
          "output_type": "stream",
          "text": [
            "[ 6 13 16 17  3 19 12 14  4  9  8  0 18 10  7  2  5 15 11  1]\n",
            "[ 0  1  2  3  4  5  6  7  8  9 10 11 12 13 14 15 16 17 18 19]\n"
          ],
          "name": "stdout"
        }
      ]
    }
  ]
}