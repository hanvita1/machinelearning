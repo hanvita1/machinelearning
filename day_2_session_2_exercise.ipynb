{
  "nbformat": 4,
  "nbformat_minor": 0,
  "metadata": {
    "colab": {
      "name": "day 2 session  2 exercise",
      "provenance": [],
      "authorship_tag": "ABX9TyMSJQKgTv/QaIxM+8wxm9ZK",
      "include_colab_link": true
    },
    "kernelspec": {
      "name": "python3",
      "display_name": "Python 3"
    }
  },
  "cells": [
    {
      "cell_type": "markdown",
      "metadata": {
        "id": "view-in-github",
        "colab_type": "text"
      },
      "source": [
        "<a href=\"https://colab.research.google.com/github/hanvita1/machinelearning/blob/master/day_2_session_2_exercise.ipynb\" target=\"_parent\"><img src=\"https://colab.research.google.com/assets/colab-badge.svg\" alt=\"Open In Colab\"/></a>"
      ]
    },
    {
      "cell_type": "code",
      "metadata": {
        "id": "BfnVwc5uZQ_T",
        "colab_type": "code",
        "colab": {}
      },
      "source": [
        ""
      ],
      "execution_count": null,
      "outputs": []
    },
    {
      "cell_type": "markdown",
      "metadata": {
        "id": "hw2oGOjPZWWE",
        "colab_type": "text"
      },
      "source": [
        " Add rollno and marks {name:mark} for n number of students through keyboard in a dictionary and print the marks in descending order with respective name."
      ]
    },
    {
      "cell_type": "code",
      "metadata": {
        "id": "FVaVot3fZW9x",
        "colab_type": "code",
        "colab": {
          "base_uri": "https://localhost:8080/",
          "height": 151
        },
        "outputId": "2373d0cc-ac3d-4532-c182-586953f418f5"
      },
      "source": [
        "import operator\n",
        "d={}\n",
        "for i in range(int(input(\"Enter The Number Of Students: \"))):\n",
        "  n=input(f\"Enter The Name Of Student-{i+1}: \")\n",
        "  d[n]=int(input(f\"Enter The Marks Of Student-{i+1}: \"))\n",
        "print(dict(sorted(d.items(), key=operator.itemgetter(1), reverse=True)))\n"
      ],
      "execution_count": 2,
      "outputs": [
        {
          "output_type": "stream",
          "text": [
            "Enter The Number Of Students: 3\n",
            "Enter The Name Of Student-1: aaa\n",
            "Enter The Marks Of Student-1: 65\n",
            "Enter The Name Of Student-2: bbb\n",
            "Enter The Marks Of Student-2: 85\n",
            "Enter The Name Of Student-3: ccc\n",
            "Enter The Marks Of Student-3: 55\n",
            "{'bbb': 85, 'aaa': 65, 'ccc': 55}\n"
          ],
          "name": "stdout"
        }
      ]
    },
    {
      "cell_type": "markdown",
      "metadata": {
        "id": "hA7qAR78ZyAs",
        "colab_type": "text"
      },
      "source": [
        "Add name and salary {name:salary} for n number of employees through keyboard in a dictionary and print them in name alphabetical order with salary"
      ]
    },
    {
      "cell_type": "code",
      "metadata": {
        "id": "A0x4mam0Z2J-",
        "colab_type": "code",
        "colab": {
          "base_uri": "https://localhost:8080/",
          "height": 151
        },
        "outputId": "d61a76d6-5821-4ee9-b70e-3faff4693ea7"
      },
      "source": [
        "import operator\n",
        "d={}\n",
        "for i in range(int(input(\"Enter The Number Of Students: \"))):\n",
        "  n=input(f\"Enter The Name Of Employee-{i+1}: \")\n",
        "  d[n]=int(input(f\"Enter The Salary Of Employee-{i+1}: \"))\n",
        "print(dict(sorted(d.items(), key=operator.itemgetter(0))))"
      ],
      "execution_count": 3,
      "outputs": [
        {
          "output_type": "stream",
          "text": [
            "Enter The Number Of Students: 3\n",
            "Enter The Name Of Employee-1: hanvita\n",
            "Enter The Salary Of Employee-1: 80000\n",
            "Enter The Name Of Employee-2: madhushree\n",
            "Enter The Salary Of Employee-2: 25000\n",
            "Enter The Name Of Employee-3: qqq\n",
            "Enter The Salary Of Employee-3: 14000\n",
            "{'hanvita': 80000, 'madhushree': 25000, 'qqq': 14000}\n"
          ],
          "name": "stdout"
        }
      ]
    },
    {
      "cell_type": "markdown",
      "metadata": {
        "id": "7fvBUkvqaQjG",
        "colab_type": "text"
      },
      "source": [
        "Add name and salary {name:salary} for n number of employees through keyboard in a dictionary and print them in salary ascending order and sum, max, min and average of the salaries"
      ]
    },
    {
      "cell_type": "code",
      "metadata": {
        "id": "y-VnyMgqaT-I",
        "colab_type": "code",
        "colab": {
          "base_uri": "https://localhost:8080/",
          "height": 185
        },
        "outputId": "0552180c-4f8e-49dd-a594-efe90aeb66fb"
      },
      "source": [
        "import operator\n",
        "d={}\n",
        "for i in range(int(input(\"Enter The Number Of Students: \"))):\n",
        "  n=input(f\"Enter The Name Of Employee-{i+1}: \")\n",
        "  d[n]=int(input(f\"Enter The Salary Of Employee-{i+1}: \"))\n",
        "print(dict(sorted(d.items(), key=operator.itemgetter(1))))\n",
        "print(f\"Sum: {sum(d.values())}\\nMax: {max(d.values())}\\nMin: {min(d.values())}\\nAverage: {sum(d.values())/len(d)}\")\n"
      ],
      "execution_count": 4,
      "outputs": [
        {
          "output_type": "stream",
          "text": [
            "Enter The Number Of Students: 2\n",
            "Enter The Name Of Employee-1: sudha\n",
            "Enter The Salary Of Employee-1: 15000\n",
            "Enter The Name Of Employee-2: ooo\n",
            "Enter The Salary Of Employee-2: 14000\n",
            "{'ooo': 14000, 'sudha': 15000}\n",
            "Sum: 29000\n",
            "Max: 15000\n",
            "Min: 14000\n",
            "Average: 14500.0\n"
          ],
          "name": "stdout"
        }
      ]
    },
    {
      "cell_type": "markdown",
      "metadata": {
        "id": "4DW_qFbNahcC",
        "colab_type": "text"
      },
      "source": [
        "Add name and salary {name:salary} for n number of employees through keyboard in a dictionary and print only the employees whose salary is greater than 2000 but less than 4000"
      ]
    },
    {
      "cell_type": "code",
      "metadata": {
        "id": "SFvA5oebaoRa",
        "colab_type": "code",
        "colab": {
          "base_uri": "https://localhost:8080/",
          "height": 118
        },
        "outputId": "aed47d0a-7fdc-47f5-9a8f-9bda78adbd2e"
      },
      "source": [
        "d={}\n",
        "for i in range(int(input(\"Enter The Number Of Students: \"))):\n",
        "  n=input(f\"Enter The Name Of Employee-{i+1}: \")\n",
        "  d[n]=int(input(f\"Enter The Salary Of Employee-{i+1}: \"))\n",
        "print(dict([(k,v) for k,v in d.items() if 2000<v<4000]))"
      ],
      "execution_count": 6,
      "outputs": [
        {
          "output_type": "stream",
          "text": [
            "Enter The Number Of Students: 2\n",
            "Enter The Name Of Employee-1: raj\n",
            "Enter The Salary Of Employee-1: 21000\n",
            "Enter The Name Of Employee-2: madhu\n",
            "Enter The Salary Of Employee-2: 25000\n",
            "{}\n"
          ],
          "name": "stdout"
        }
      ]
    },
    {
      "cell_type": "markdown",
      "metadata": {
        "id": "ql_0-npRa5Ji",
        "colab_type": "text"
      },
      "source": [
        "Python program to convert a 3 digit number into words"
      ]
    },
    {
      "cell_type": "code",
      "metadata": {
        "id": "3eyyQHAJa94K",
        "colab_type": "code",
        "colab": {
          "base_uri": "https://localhost:8080/",
          "height": 50
        },
        "outputId": "767ab128-4e57-4e40-89f5-45c39632b86e"
      },
      "source": [
        "d={0:'',1:'one',2:'two',3:'three',4:'four',5:'five',6:'six',7:'seven',8:'eight',9:'nine',\\\n",
        "   10:'ten',11:'eleven',12:'twelve',13:'thirteen',14:'fourteen',15:'fifteen',16:'sixteen',\\\n",
        "   17:'seventeen',18:'eightteen',19:'nineteen',20:'twenty',30:'thirty',40:'fourty',50:'fifty',\\\n",
        "   60:'sixty',70:'seventy',80:'eighty',90:'ninty',100:'One hundred',200:'Two hundred',300:'three hundred',400:'four hundred',500:'five hundred',600:'six hundred',700:'seven hundred',800:'eight hundred',900:'nine hundred'}\n",
        "num=int(input(\"Enter the integer between 100 to 999:\"))\n",
        "print(f\"{d[num//100*100]} {d[((num//10)%10)*10]} {d[num%10]}\")"
      ],
      "execution_count": 7,
      "outputs": [
        {
          "output_type": "stream",
          "text": [
            "Enter the integer between 100 to 999:88\n",
            " eighty eight\n"
          ],
          "name": "stdout"
        }
      ]
    },
    {
      "cell_type": "markdown",
      "metadata": {
        "id": "sgCrVJSXdCOl",
        "colab_type": "text"
      },
      "source": [
        "Python Program to count the total number of charaters (except blank space) in a text file."
      ]
    },
    {
      "cell_type": "code",
      "metadata": {
        "id": "jCy_CLX5dDVX",
        "colab_type": "code",
        "colab": {
          "base_uri": "https://localhost:8080/",
          "height": 34
        },
        "outputId": "41e3262b-4bd3-4adb-ba6a-a11c872075b5"
      },
      "source": [
        "f=open(\"/hanvita.txt\",\"r\")\n",
        "t=f.read()\n",
        "c=0\n",
        "for i in t:\n",
        "  if(i!=\" \" and i!='\\n'):\n",
        "    c+=1\n",
        "print(c)"
      ],
      "execution_count": 17,
      "outputs": [
        {
          "output_type": "stream",
          "text": [
            "3\n"
          ],
          "name": "stdout"
        }
      ]
    },
    {
      "cell_type": "markdown",
      "metadata": {
        "id": "ohqM4kTke5gp",
        "colab_type": "text"
      },
      "source": [
        "Python Program to print all the numbers present in a text file with its total number of occurrence."
      ]
    },
    {
      "cell_type": "code",
      "metadata": {
        "id": "lyEWUcawfFhQ",
        "colab_type": "code",
        "colab": {
          "base_uri": "https://localhost:8080/",
          "height": 67
        },
        "outputId": "87e4d320-d053-4001-f69a-943681678b9c"
      },
      "source": [
        "file_txt = open(\"/hanvita.txt\",\"r\")\t\t\n",
        "text = file_txt.read()\t\n",
        "w = []\t\n",
        "d = dict() \n",
        "for line in text: \n",
        "    line = line.strip() \t\n",
        "    if(line.isdigit()):\n",
        "           w.append(line)\n",
        "for j in w:\n",
        "      if j in d:\n",
        "        d[j] = d[j] + 1\n",
        "      else: \n",
        "            d[j] = 1 \n",
        "for key in list(d.keys()): \n",
        "    print(key, \":\", d[key])"
      ],
      "execution_count": 18,
      "outputs": [
        {
          "output_type": "stream",
          "text": [
            "1 : 1\n",
            "2 : 1\n",
            "3 : 1\n"
          ],
          "name": "stdout"
        }
      ]
    },
    {
      "cell_type": "markdown",
      "metadata": {
        "id": "QazbHPEIfNEN",
        "colab_type": "text"
      },
      "source": [
        "Python Program to append the contents of one file to another file by getting the both file names through keyboard .\n"
      ]
    },
    {
      "cell_type": "code",
      "metadata": {
        "id": "9Zf3oqIVfP9Z",
        "colab_type": "code",
        "colab": {
          "base_uri": "https://localhost:8080/",
          "height": 50
        },
        "outputId": "addbe30f-0e43-4440-f899-6bb72beb7edd"
      },
      "source": [
        "name1 = input(\"Enter file to be read from: \")\n",
        "name2 = input(\"Enter file to be appended to: \")\n",
        "fin = open(name1, \"r\")\n",
        "data2 = fin.read()\n",
        "fin.close()\n",
        "fout = open(name2, \"a\")\n",
        "fout.write(data2)\n",
        "fout.close()"
      ],
      "execution_count": 25,
      "outputs": [
        {
          "output_type": "stream",
          "text": [
            "Enter file to be read from: /hanvita.txt\n",
            "Enter file to be appended to: /madhu.txt\n"
          ],
          "name": "stdout"
        }
      ]
    },
    {
      "cell_type": "markdown",
      "metadata": {
        "id": "9jYxZDJvhVRS",
        "colab_type": "text"
      },
      "source": [
        "Python Program to count the number of blank spaces in a text file."
      ]
    },
    {
      "cell_type": "code",
      "metadata": {
        "id": "19D162nYhagk",
        "colab_type": "code",
        "colab": {
          "base_uri": "https://localhost:8080/",
          "height": 34
        },
        "outputId": "5630d228-51c3-4a97-9ffb-d9b186ade6bc"
      },
      "source": [
        "file_txt = open(\"/madhu.txt\",\"r\")\t\t\n",
        "text = file_txt.read()\t\t\t\n",
        "charc = 0\t\n",
        "for i in text:\t\t\t\t\n",
        "\tif(i == \" \"):\n",
        "\t\t charc += 1\n",
        " \n",
        "print (\"total num of spaces: \",charc);"
      ],
      "execution_count": 26,
      "outputs": [
        {
          "output_type": "stream",
          "text": [
            "total num of spaces:  1\n"
          ],
          "name": "stdout"
        }
      ]
    },
    {
      "cell_type": "markdown",
      "metadata": {
        "id": "d4Uc15MBhgYY",
        "colab_type": "text"
      },
      "source": [
        "Python Program to read a file and capitalize the first letter of every word in the file and copy the every word capitalized content into another file and read it ."
      ]
    },
    {
      "cell_type": "code",
      "metadata": {
        "id": "4AmJoq8-hjHS",
        "colab_type": "code",
        "colab": {
          "base_uri": "https://localhost:8080/",
          "height": 151
        },
        "outputId": "4204b5f8-4ecb-481d-be6c-46c3e3d4b527"
      },
      "source": [
        "with open('/hanvita.txt', 'r') as f:\n",
        "  with open(\"madhu.txt\", \"w\") as f1:\n",
        "    for line in f:\n",
        "        l=line.title()\n",
        "        f1.write(l)\n",
        "file2=open(\"madhu.txt\",'r')\n",
        "line=file2.readline()\n",
        "while(line!=\"\"):\n",
        "    print(line)\n",
        "    line=file2.readline()\n",
        "file2.close()"
      ],
      "execution_count": 28,
      "outputs": [
        {
          "output_type": "stream",
          "text": [
            "1 \n",
            "\n",
            "2\n",
            "\n",
            "3\n",
            "\n",
            "\n",
            "\n"
          ],
          "name": "stdout"
        }
      ]
    },
    {
      "cell_type": "markdown",
      "metadata": {
        "id": "t9KMmxKBjdaO",
        "colab_type": "text"
      },
      "source": [
        "#dict.clear()\n",
        "#Removes all elements of dictionary dict\n"
      ]
    },
    {
      "cell_type": "code",
      "metadata": {
        "id": "0I8-XRKTkMmE",
        "colab_type": "code",
        "colab": {
          "base_uri": "https://localhost:8080/",
          "height": 50
        },
        "outputId": "a7f64394-605a-4747-caae-fddf312f072e"
      },
      "source": [
        "dict = {'Name': 'Zara', 'Age': 7};\n",
        "print(\"Start Len : %d\" %  len(dict))\n",
        "dict.clear()\n",
        "print(\"End Len : %d\" %  len(dict))\n"
      ],
      "execution_count": 29,
      "outputs": [
        {
          "output_type": "stream",
          "text": [
            "Start Len : 2\n",
            "End Len : 0\n"
          ],
          "name": "stdout"
        }
      ]
    },
    {
      "cell_type": "markdown",
      "metadata": {
        "id": "jllIL6Vhkm13",
        "colab_type": "text"
      },
      "source": [
        "#dict.items()\n",
        "#Returns a list of dict's (key, value) tuple pairs\n",
        "\n"
      ]
    },
    {
      "cell_type": "code",
      "metadata": {
        "id": "rrQZRxWCkqLq",
        "colab_type": "code",
        "colab": {
          "base_uri": "https://localhost:8080/",
          "height": 34
        },
        "outputId": "83cd7e9f-07fb-4199-cf13-a7db58e379de"
      },
      "source": [
        "dict = {'Name': 'Zara', 'Age': 7}\n",
        "print (\"Value : %s\" %  dict.items())\n"
      ],
      "execution_count": 30,
      "outputs": [
        {
          "output_type": "stream",
          "text": [
            "Value : dict_items([('Name', 'Zara'), ('Age', 7)])\n"
          ],
          "name": "stdout"
        }
      ]
    },
    {
      "cell_type": "markdown",
      "metadata": {
        "id": "VMV4DnRYk_gf",
        "colab_type": "text"
      },
      "source": [
        "# dict.copy()\n",
        "#Returns a copy of dictionary dict\n"
      ]
    },
    {
      "cell_type": "code",
      "metadata": {
        "id": "Z5EJmU0YlEBI",
        "colab_type": "code",
        "colab": {
          "base_uri": "https://localhost:8080/",
          "height": 34
        },
        "outputId": "6afa33b6-ec5f-48ef-8501-daf0b2aebc66"
      },
      "source": [
        "dict1 = {'Name': 'Zara', 'Age': 7};\n",
        "dict2 = dict1.copy()\n",
        "print (\"New Dictinary : %s\" %  str(dict2))\n"
      ],
      "execution_count": 31,
      "outputs": [
        {
          "output_type": "stream",
          "text": [
            "New Dictinary : {'Name': 'Zara', 'Age': 7}\n"
          ],
          "name": "stdout"
        }
      ]
    },
    {
      "cell_type": "markdown",
      "metadata": {
        "id": "nMe2s-iOmRD2",
        "colab_type": "text"
      },
      "source": [
        "Python Program to Generate a Dictionary that Contains Numbers (between 1 and n) in the Form (x,x*x). \n",
        "n=int(input(\"Enter a number:\"))\n",
        "d={x:x*x for x in range(1,n+1)}\n",
        "print(d)\n",
        "Python Program to Sum All the Items in a Dictionary \n"
      ]
    },
    {
      "cell_type": "code",
      "metadata": {
        "id": "5MP8UAn4mV-E",
        "colab_type": "code",
        "colab": {
          "base_uri": "https://localhost:8080/",
          "height": 50
        },
        "outputId": "cc1e4bea-f4df-4d2f-90c7-ae76caf8ba31"
      },
      "source": [
        "d={'A':100,'B':540,'C':239}\n",
        "print(\"Total sum of values in the dictionary:\")\n",
        "print(sum(d.values()))\n"
      ],
      "execution_count": 32,
      "outputs": [
        {
          "output_type": "stream",
          "text": [
            "Total sum of values in the dictionary:\n",
            "879\n"
          ],
          "name": "stdout"
        }
      ]
    },
    {
      "cell_type": "markdown",
      "metadata": {
        "id": "-Hyhi5P5maMi",
        "colab_type": "text"
      },
      "source": [
        "Python Program to Remove the Given Key from a Dictionary "
      ]
    },
    {
      "cell_type": "code",
      "metadata": {
        "id": "2qOLoMfPmbwZ",
        "colab_type": "code",
        "colab": {
          "base_uri": "https://localhost:8080/",
          "height": 118
        },
        "outputId": "2488a8cc-92f4-46ec-ff1c-db8034389fa4"
      },
      "source": [
        "d = {'a':1,'b':2,'c':3,'d':4}\n",
        "print(\"Initial dictionary\")\n",
        "print(d)\n",
        "key=input(\"Enter the key to delete(a-d):\")\n",
        "if key in d: \n",
        "    del d[key]\n",
        "else:\n",
        "    print(\"Key not found!\")\n",
        "    exit(0)\n",
        "print(\"Updated dictionary\")\n",
        "print(d)\n"
      ],
      "execution_count": 33,
      "outputs": [
        {
          "output_type": "stream",
          "text": [
            "Initial dictionary\n",
            "{'a': 1, 'b': 2, 'c': 3, 'd': 4}\n",
            "Enter the key to delete(a-d):1\n",
            "Key not found!\n",
            "Updated dictionary\n",
            "{'a': 1, 'b': 2, 'c': 3, 'd': 4}\n"
          ],
          "name": "stdout"
        }
      ]
    },
    {
      "cell_type": "markdown",
      "metadata": {
        "id": "iWdd1bk6mp6C",
        "colab_type": "text"
      },
      "source": [
        "Python Program to add name and mark as key->value pair in  a Dictionary and print it."
      ]
    },
    {
      "cell_type": "code",
      "metadata": {
        "id": "nPkeijmWmtLV",
        "colab_type": "code",
        "colab": {
          "base_uri": "https://localhost:8080/",
          "height": 134
        },
        "outputId": "49b996cc-0e3b-42a8-f279-1fb694e0bffd"
      },
      "source": [
        "n=int(input(\"Enter no of records\"))\n",
        "d={}\n",
        "for i in range(1,n+1):\n",
        "    name= input(\"Enter name %d\"%(i))\n",
        "    mark=int(input(\"Enter mark %d\"%(i)))\n",
        "    d[name]=mark\n",
        "    print (d)\n"
      ],
      "execution_count": 1,
      "outputs": [
        {
          "output_type": "stream",
          "text": [
            "Enter no of records2\n",
            "Enter name 1asha\n",
            "Enter mark 150\n",
            "{'asha': 50}\n",
            "Enter name 2arun\n",
            "Enter mark 288\n",
            "{'asha': 50, 'arun': 88}\n"
          ],
          "name": "stdout"
        }
      ]
    },
    {
      "cell_type": "markdown",
      "metadata": {
        "id": "zrhThVYAm5AX",
        "colab_type": "text"
      },
      "source": [
        " Keys and Values example"
      ]
    },
    {
      "cell_type": "code",
      "metadata": {
        "id": "wrGP_oUsnDqP",
        "colab_type": "code",
        "colab": {
          "base_uri": "https://localhost:8080/",
          "height": 487
        },
        "outputId": "30d55e23-36e3-4ba3-9165-e9e3cd65a295"
      },
      "source": [
        "    d={}\n",
        "    print (\" The dictionary elements are\")\n",
        "    for i in range(1,21):\n",
        "        d[i]=i**2\n",
        "    print (d)\n",
        "    # To print key and values\n",
        "    print (\" Key==> Value are\")\n",
        "    for (k,v) in d.items():\t\n",
        "        print(k,\"==>\",v)\n",
        "  # To print key only\n",
        "    print (\"\\nTo print key only\")\n",
        "    for k in d.keys():\t\n",
        "        print(k, end=\" \")\n",
        "  #To print value only\n",
        "    print (\"\\nTo print values only\")\n",
        "    for v in d.values():\t\n",
        "        print(v, end=\" \")\n"
      ],
      "execution_count": 2,
      "outputs": [
        {
          "output_type": "stream",
          "text": [
            " The dictionary elements are\n",
            "{1: 1, 2: 4, 3: 9, 4: 16, 5: 25, 6: 36, 7: 49, 8: 64, 9: 81, 10: 100, 11: 121, 12: 144, 13: 169, 14: 196, 15: 225, 16: 256, 17: 289, 18: 324, 19: 361, 20: 400}\n",
            " Key==> Value are\n",
            "1 ==> 1\n",
            "2 ==> 4\n",
            "3 ==> 9\n",
            "4 ==> 16\n",
            "5 ==> 25\n",
            "6 ==> 36\n",
            "7 ==> 49\n",
            "8 ==> 64\n",
            "9 ==> 81\n",
            "10 ==> 100\n",
            "11 ==> 121\n",
            "12 ==> 144\n",
            "13 ==> 169\n",
            "14 ==> 196\n",
            "15 ==> 225\n",
            "16 ==> 256\n",
            "17 ==> 289\n",
            "18 ==> 324\n",
            "19 ==> 361\n",
            "20 ==> 400\n",
            "\n",
            "To print key only\n",
            "1 2 3 4 5 6 7 8 9 10 11 12 13 14 15 16 17 18 19 20 \n",
            "To print values only\n",
            "1 4 9 16 25 36 49 64 81 100 121 144 169 196 225 256 289 324 361 400 "
          ],
          "name": "stdout"
        }
      ]
    },
    {
      "cell_type": "markdown",
      "metadata": {
        "id": "2G1HAjdknLmu",
        "colab_type": "text"
      },
      "source": [
        "Python program to convert 2 digit number   into words"
      ]
    },
    {
      "cell_type": "code",
      "metadata": {
        "id": "EbJvuE6HnMY9",
        "colab_type": "code",
        "colab": {
          "base_uri": "https://localhost:8080/",
          "height": 50
        },
        "outputId": "919612ac-4dbb-4799-83a0-5facc14b2776"
      },
      "source": [
        "d={0:'',1:'one',2:'two',3:'three',4:'four',5:'five',6:'six',7:'seven',8:'eight',9:'nine',\\\n",
        "   10:'ten',11:'eleven',12:'twelve',13:'thirteen',14:'fourteen',15:'fifteen',16:'sixteen',\\\n",
        "   17:'seventeen',18:'eightteen',19:'nineteen',20:'twenty',30:'thirty',40:'fourty',50:'fifty',\\\n",
        "   60:'sixty',70:'seventy',80:'eighty',90:'ninty'}\n",
        "\n",
        "num=int(input(\"Enter the integer between 1 to 99:\"))\n",
        "if (num<=20):\n",
        "      print(d[num])\n",
        "if(num>20 and num<100):\n",
        "        if num%10==0:       \n",
        "            print(d[num])\n",
        "        else:\n",
        "            print(d[num//10*10]+\" \"+d[num%10])\n",
        "\n"
      ],
      "execution_count": 3,
      "outputs": [
        {
          "output_type": "stream",
          "text": [
            "Enter the integer between 1 to 99:55\n",
            "fifty five\n"
          ],
          "name": "stdout"
        }
      ]
    },
    {
      "cell_type": "markdown",
      "metadata": {
        "id": "Wbm5_e90nSp0",
        "colab_type": "text"
      },
      "source": [
        "How to sort a dictionary by values in Python\n",
        "\n"
      ]
    },
    {
      "cell_type": "code",
      "metadata": {
        "id": "hHWu2d8anXpW",
        "colab_type": "code",
        "colab": {
          "base_uri": "https://localhost:8080/",
          "height": 50
        },
        "outputId": "c74eb8ec-ebc6-4b02-e200-3b3c95390cc4"
      },
      "source": [
        "d = {\"Pierre\": 42, \"Anne\": 33, \"Zoe\": 24}\n",
        "#Use the sorted function and operator module\n",
        "import operator\n",
        "sorted_d = sorted(d.items(), key=operator.itemgetter(1))\n",
        "print(sorted_d)\n",
        "sorted_a= sorted(d.items(), key=operator.itemgetter(1),reverse=True)\n",
        "print(sorted_a)\n"
      ],
      "execution_count": 4,
      "outputs": [
        {
          "output_type": "stream",
          "text": [
            "[('Zoe', 24), ('Anne', 33), ('Pierre', 42)]\n",
            "[('Pierre', 42), ('Anne', 33), ('Zoe', 24)]\n"
          ],
          "name": "stdout"
        }
      ]
    }
  ]
}