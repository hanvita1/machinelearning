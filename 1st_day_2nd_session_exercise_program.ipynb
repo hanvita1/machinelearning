{
  "nbformat": 4,
  "nbformat_minor": 0,
  "metadata": {
    "colab": {
      "name": "1st day 2nd session exercise program",
      "provenance": [],
      "authorship_tag": "ABX9TyPhfQs37ao34vWx1Ct3xx1A",
      "include_colab_link": true
    },
    "kernelspec": {
      "name": "python3",
      "display_name": "Python 3"
    }
  },
  "cells": [
    {
      "cell_type": "markdown",
      "metadata": {
        "id": "view-in-github",
        "colab_type": "text"
      },
      "source": [
        "<a href=\"https://colab.research.google.com/github/hanvita1/machinelearning/blob/master/1st_day_2nd_session_exercise_program.ipynb\" target=\"_parent\"><img src=\"https://colab.research.google.com/assets/colab-badge.svg\" alt=\"Open In Colab\"/></a>"
      ]
    },
    {
      "cell_type": "code",
      "metadata": {
        "id": "qTnhGEvJVEBD",
        "colab_type": "code",
        "colab": {}
      },
      "source": [
        ""
      ],
      "execution_count": 0,
      "outputs": []
    },
    {
      "cell_type": "markdown",
      "metadata": {
        "id": "7IHE5VLoVFqe",
        "colab_type": "text"
      },
      "source": [
        "Write a program to print the triangle"
      ]
    },
    {
      "cell_type": "code",
      "metadata": {
        "id": "f9pb40-iVGuY",
        "colab_type": "code",
        "outputId": "29d725cd-ed8a-49b0-8d33-9d9f294648da",
        "colab": {
          "base_uri": "https://localhost:8080/",
          "height": 101
        }
      },
      "source": [
        "k=1\n",
        "n=int(input(\"enter n value: \"))\n",
        "for i in range(0,n):\n",
        " if(i>=2):\n",
        "  k=i+1\n",
        " for j in range(0,i+1):\n",
        "  print(k,end=\" \")\n",
        " k=k+1\n",
        " print()"
      ],
      "execution_count": 0,
      "outputs": [
        {
          "output_type": "stream",
          "text": [
            "enter n value: 4\n",
            "1 \n",
            "2 2 \n",
            "3 3 3 \n",
            "4 4 4 4 \n"
          ],
          "name": "stdout"
        }
      ]
    },
    {
      "cell_type": "code",
      "metadata": {
        "id": "BmC4_i4OixKE",
        "colab_type": "code",
        "colab": {}
      },
      "source": [
        ""
      ],
      "execution_count": 0,
      "outputs": []
    },
    {
      "cell_type": "markdown",
      "metadata": {
        "id": "Gn1n4i3UWa-O",
        "colab_type": "text"
      },
      "source": [
        "python program to print pattern"
      ]
    },
    {
      "cell_type": "code",
      "metadata": {
        "id": "WYwZ-BGYWfGZ",
        "colab_type": "code",
        "outputId": "8819f1db-2c8c-4e5f-90ff-0d5c4cb06860",
        "colab": {
          "base_uri": "https://localhost:8080/",
          "height": 101
        }
      },
      "source": [
        "rows =int(input(\"enter num: \"))\n",
        "for i in range(0, rows):\n",
        " for j in range(0, i + 1):\n",
        "  print(\"*\", end=' ')\n",
        " print(\"\\r\")"
      ],
      "execution_count": 0,
      "outputs": [
        {
          "output_type": "stream",
          "text": [
            "enter num: 4\n",
            "* \n",
            "* * \n",
            "* * * \n",
            "* * * * \n"
          ],
          "name": "stdout"
        }
      ]
    },
    {
      "cell_type": "markdown",
      "metadata": {
        "id": "SNnFZ_gsWo1U",
        "colab_type": "text"
      },
      "source": [
        ""
      ]
    },
    {
      "cell_type": "markdown",
      "metadata": {
        "id": "cYd9K4mjWutk",
        "colab_type": "text"
      },
      "source": [
        "pattren program"
      ]
    },
    {
      "cell_type": "code",
      "metadata": {
        "id": "ZOTRKOVRWviM",
        "colab_type": "code",
        "outputId": "3ac6a808-d17c-4558-d618-ec1de491d1e4",
        "colab": {
          "base_uri": "https://localhost:8080/",
          "height": 50
        }
      },
      "source": [
        "k=4\n",
        "n=int(input(\"enter n value: \"))\n",
        "for i in range(n+1,0,-1):\n",
        " for j in range(i,n+1):\n",
        "  print(j,end=\" \")"
      ],
      "execution_count": 0,
      "outputs": [
        {
          "output_type": "stream",
          "text": [
            "enter n value: 5\n",
            "5 4 5 3 4 5 2 3 4 5 1 2 3 4 5 "
          ],
          "name": "stdout"
        }
      ]
    },
    {
      "cell_type": "markdown",
      "metadata": {
        "id": "4z5GX419XCUc",
        "colab_type": "text"
      },
      "source": [
        "pattern program"
      ]
    },
    {
      "cell_type": "code",
      "metadata": {
        "id": "5Kfth-afXG3l",
        "colab_type": "code",
        "outputId": "0d81a4ad-865b-4b00-8529-a9da964b15d8",
        "colab": {
          "base_uri": "https://localhost:8080/",
          "height": 134
        }
      },
      "source": [
        "rows = int(input(\"enter num : \"))\n",
        "for i in range(0, rows + 1):\n",
        " for j in range(rows - i, 0, -1):\n",
        "  print(j, end=' ')\n",
        " print()"
      ],
      "execution_count": 0,
      "outputs": [
        {
          "output_type": "stream",
          "text": [
            "enter num : 5\n",
            "5 4 3 2 1 \n",
            "4 3 2 1 \n",
            "3 2 1 \n",
            "2 1 \n",
            "1 \n",
            "\n"
          ],
          "name": "stdout"
        }
      ]
    },
    {
      "cell_type": "markdown",
      "metadata": {
        "id": "RsWYBO8vXQOF",
        "colab_type": "text"
      },
      "source": [
        "pattern program"
      ]
    },
    {
      "cell_type": "code",
      "metadata": {
        "id": "PGKdbO8mXUMM",
        "colab_type": "code",
        "outputId": "81e3a5ef-d401-4b96-fcaf-46c2146dcfd7",
        "colab": {
          "base_uri": "https://localhost:8080/",
          "height": 50
        }
      },
      "source": [
        "rows = 5\n",
        "n=rows-1\n",
        "for i in range(1, rows-1):\n",
        " for j in range(i,rows):\n",
        "  print(j,end=\" \")\n",
        "print()\n",
        "for i in range(n+1,0,-1):\n",
        " for j in range(i,n+1):\n",
        "  print(j,end=\" \")\n",
        "print()"
      ],
      "execution_count": 0,
      "outputs": [
        {
          "output_type": "stream",
          "text": [
            "1 2 3 4 2 3 4 3 4 \n",
            "4 3 4 2 3 4 1 2 3 4 \n"
          ],
          "name": "stdout"
        }
      ]
    },
    {
      "cell_type": "markdown",
      "metadata": {
        "id": "OFsP6NTqYlwM",
        "colab_type": "text"
      },
      "source": [
        "Find the length of a string without using len functions"
      ]
    },
    {
      "cell_type": "code",
      "metadata": {
        "id": "ASPZnm9tYoh9",
        "colab_type": "code",
        "outputId": "d649dbb5-aff8-46da-d6ed-b6deb5af0e53",
        "colab": {
          "base_uri": "https://localhost:8080/",
          "height": 50
        }
      },
      "source": [
        "str = input(\"Enter a string: \")\n",
        "counter = 0\n",
        "for s in str:\n",
        " counter = counter+1\n",
        "print(\"Length of the input string is:\", counter)"
      ],
      "execution_count": 0,
      "outputs": [
        {
          "output_type": "stream",
          "text": [
            "Enter a string: hello\n",
            "Length of the input string is: 5\n"
          ],
          "name": "stdout"
        }
      ]
    },
    {
      "cell_type": "markdown",
      "metadata": {
        "id": "bajva2tJYyjK",
        "colab_type": "text"
      },
      "source": [
        "Find the no of words and characters in a string"
      ]
    },
    {
      "cell_type": "code",
      "metadata": {
        "id": "_eZsrxsEY1L5",
        "colab_type": "code",
        "outputId": "f7cd0980-a5d4-4acf-c41d-a30399d969b6",
        "colab": {
          "base_uri": "https://localhost:8080/",
          "height": 101
        }
      },
      "source": [
        "string=input(\"Enter string:\")\n",
        "char=0\n",
        "word=1\n",
        "for i in string:\n",
        "      char=char+1\n",
        "      if(i==' '):\n",
        "            word=word+1\n",
        "print(\"Number of words in the string:\")\n",
        "print(word)\n",
        "print(\"Number of characters in the string:\")\n",
        "print(char)"
      ],
      "execution_count": 0,
      "outputs": [
        {
          "output_type": "stream",
          "text": [
            "Enter string:python program\n",
            "Number of words in the string:\n",
            "2\n",
            "Number of characters in the string:\n",
            "14\n"
          ],
          "name": "stdout"
        }
      ]
    },
    {
      "cell_type": "markdown",
      "metadata": {
        "id": "44MqTimSZz4V",
        "colab_type": "text"
      },
      "source": [
        "Find the no of occurrences of each word in a string\n"
      ]
    },
    {
      "cell_type": "code",
      "metadata": {
        "id": "dhrR5CsdZ3Fm",
        "colab_type": "code",
        "outputId": "9f7fbafe-ea8a-4e03-c86b-a285f2ddef60",
        "colab": {
          "base_uri": "https://localhost:8080/",
          "height": 34
        }
      },
      "source": [
        "def word_count(str):\n",
        " counts = dict()\n",
        " words = str.split()\n",
        " for word in words:\n",
        "   if word in counts:\n",
        "       counts[word] += 1\n",
        " else:\n",
        "       counts[word] = 1\n",
        " return counts\n",
        "print( word_count('the quick brown fox jumps over the lazy dog.'))"
      ],
      "execution_count": 0,
      "outputs": [
        {
          "output_type": "stream",
          "text": [
            "{'dog.': 1}\n"
          ],
          "name": "stdout"
        }
      ]
    }
  ]
}